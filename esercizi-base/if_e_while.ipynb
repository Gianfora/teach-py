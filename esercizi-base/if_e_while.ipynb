{
  "cells": [
    {
      "cell_type": "markdown",
      "metadata": {
        "id": "HB3XbPDcSqe1"
      },
      "source": [
        "# Esercizi IF"
      ]
    },
    {
      "cell_type": "code",
      "execution_count": null,
      "metadata": {},
      "outputs": [],
      "source": []
    },
    {
      "cell_type": "code",
      "execution_count": null,
      "metadata": {
        "id": "0U7L9A29RfeT"
      },
      "outputs": [],
      "source": [
        "# Es 4.1: Ottenere dall'utente un numero in input e scrivere a schermo \"Pari\" se il numero è pari, scrivere \"Dispari\" altrimenti\n",
        "x = int(input())\n",
        "if x % 2==0:\n",
        "    print(\"Pari\")\n",
        "else:\n",
        "    print(\"Dispari\")\n",
        "  \n",
        "\n"
      ]
    },
    {
      "cell_type": "code",
      "execution_count": null,
      "metadata": {
        "id": "gE3RVr9ORuwP"
      },
      "outputs": [],
      "source": [
        "# Es 4.2: Ottenere dall'utente tre angoli caso siano i tre angoli di un triangolo scrivere a schermo \"È un triangolo\", altrimenti \"Non è un triangolo\"\n",
        "x = float(input())\n",
        "y = float(input())\n",
        "z = float(input())\n",
        "if x + y + z== 180:\n",
        "    print(\"È un triangolo\")\n",
        "else:\n",
        "    print(\"Non è un triangolo\")"
      ]
    },
    {
      "cell_type": "code",
      "execution_count": null,
      "metadata": {
        "id": "r1A_DavcSKgi"
      },
      "outputs": [],
      "source": [
        "# Es 4.3: Ottenuti dall'utente tre angoli di un tringolo scrivere a schermo se i tre angoli descrivono un triangolo rettangolo o no\n",
        "x = float(input())\n",
        "y = float(input())\n",
        "z = float(input())\n",
        "if x + y + z== 180:\n",
        "    if x == 90 or y == 90 or z == 90:\n",
        "        print(\"I tre angoli descrivono un triangolo rettangolo\")\n",
        "    else:\n",
        "        print(\"I tre angoli non descrivono un triangolo rettangolo\")\n",
        "else:\n",
        "    print(\"Non è un triangolo\")"
      ]
    },
    {
      "cell_type": "code",
      "execution_count": null,
      "metadata": {
        "id": "iA9D4X_GSims"
      },
      "outputs": [],
      "source": [
        "# Es 4.4: Ottenuti dall'utente tre angoli di un tringolo scrivere a schermo se i tre angoli descrivono un triangolo equilatero o no\n",
        "x = float(input())\n",
        "y = float(input())\n",
        "z = float(input())\n",
        "if x ==  y == z == 60:\n",
        "        print(\"I tre angoli descrivono un triangolo equilatero\")\n",
        "else:\n",
        "        print(\"I tre angoli non descrivono un triangolo equilatero\")\n"
      ]
    },
    {
      "cell_type": "code",
      "execution_count": null,
      "metadata": {
        "id": "8q4gadoTSU7J"
      },
      "outputs": [],
      "source": [
        "# Es 4.5: Ottenuti dall'utente tre angoli di un tringolo scrivere a schermo se i tre angoli descrivono un triangolo isocele o no\n",
        "x = float(input())\n",
        "y = float(input())\n",
        "z = float(input())\n",
        "if x + y + z== 180:    \n",
        "    if x ==  y or x == z or y == z:\n",
        "        print(\"I tre angoli descrivono un triangolo isoscele\")\n",
        "    else:\n",
        "        print(\"I tre angoli non descrivono un triangolo isoscele\")\n",
        "else: \n",
        "    print(\"Non è un triangolo\")"
      ]
    },
    {
      "cell_type": "code",
      "execution_count": null,
      "metadata": {
        "id": "yVIE2kK3SYlq"
      },
      "outputs": [],
      "source": [
        "# Es 4.6: Ottenuti dall'utente tre angoli di un tringolo scrivere a schermo se i tre angoli descrivono un triangolo isocele, rettagolo, equilatero o scaleno\n",
        "x = float(input())\n",
        "y = float(input())\n",
        "z = float(input())\n",
        "if x + y + z== 180:    \n",
        "    if x ==  y == z == 60:\n",
        "        print(\"I tre angoli descrivono un triangolo equilatero\")\n",
        "    elif x ==  y or x == z or y == z:\n",
        "        print(\"I tre angoli descrivono un triangolo isoscele\")\n",
        "    elif x == 90 or y == 90 or z == 90:\n",
        "        print(\"I tre angoli descrivono un triangolo rettangolo\")\n",
        "    else:\n",
        "        print(\"I tre angoli descrivono un triangolo scaleno\")\n",
        "\n",
        "else: \n",
        "    print(\"Non è un triangolo\")"
      ]
    },
    {
      "cell_type": "markdown",
      "metadata": {
        "id": "ef5snVxLqeQh"
      },
      "source": [
        "# Esercizi WHILE\n"
      ]
    },
    {
      "cell_type": "code",
      "execution_count": null,
      "metadata": {
        "id": "j61RqiHxqdmh"
      },
      "outputs": [],
      "source": [
        "# Es 4.7: Creare una funzione print_n(n,v) che stampi n volte il. contenuto di v\n",
        "def print_n(n, v):\n",
        "    for n in range(n):\n",
        "        print(V)\n"
      ]
    },
    {
      "cell_type": "code",
      "execution_count": null,
      "metadata": {
        "colab": {
          "base_uri": "https://localhost:8080/"
        },
        "id": "-6lAm-hfq9w9",
        "outputId": "399e82ba-3cfe-475f-f8df-0e156677ec75"
      },
      "outputs": [],
      "source": [
        "# Es 4.8: Inserito il numero n dire per quali numeri, compresi tra 1 e n, è divisibile.\n",
        "# Inserisco 10: stampo 1,2,5\n",
        "# Inserisco 7: stampo 1\n",
        "def divisibili_di_n(n):\n",
        "    divisibili = []\n",
        "    for i in range(1, n + 1):\n",
        "        if n % i == 0:\n",
        "            divisibili.append(i)\n",
        "    return divisibili"
      ]
    },
    {
      "cell_type": "code",
      "execution_count": null,
      "metadata": {
        "colab": {
          "base_uri": "https://localhost:8080/"
        },
        "id": "GjC4LdR7rP-b",
        "outputId": "9f539b4d-c307-479a-da13-610a7e1cc46e"
      },
      "outputs": [],
      "source": [
        "# Es 4.9: Inserito il numero n dire se è primo o no\n",
        "def is_primo(n):\n",
        "    if n <= 1:\n",
        "        return False\n",
        "    if n <= 3:\n",
        "        return True\n",
        "    if n % 2 == 0 or n % 3 == 0:\n",
        "        return False\n",
        "    i = 5\n",
        "    while i * i <= n:\n",
        "        if n % i == 0 or n % (i + 2) == 0:\n",
        "            return False\n",
        "        i += 6\n",
        "    return True\n",
        "    "
      ]
    },
    {
      "cell_type": "code",
      "execution_count": null,
      "metadata": {
        "colab": {
          "base_uri": "https://localhost:8080/"
        },
        "id": "CxtWnOdHsTv4",
        "outputId": "5d874410-cb07-46a2-9c22-83d541b7a91a"
      },
      "outputs": [],
      "source": [
        "# Es 4.10: Creare la funzione moltiplica che restituisce il prodotto tra due numeri senza utilizzare *\n",
        "# 3*4 è uguale a 4+4+4\n",
        "def moltiplica(x,y):\n",
        "    result = 0\n",
        "    while y>0 :\n",
        "        result += x\n",
        "        y-=1\n",
        "    return result"
      ]
    }
  ],
  "metadata": {
    "colab": {
      "provenance": []
    },
    "kernelspec": {
      "display_name": "Python 3",
      "name": "python3"
    },
    "language_info": {
      "codemirror_mode": {
        "name": "ipython",
        "version": 3
      },
      "file_extension": ".py",
      "mimetype": "text/x-python",
      "name": "python",
      "nbconvert_exporter": "python",
      "pygments_lexer": "ipython3",
      "version": "3.10.8"
    }
  },
  "nbformat": 4,
  "nbformat_minor": 0
}
